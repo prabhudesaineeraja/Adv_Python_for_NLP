{
 "cells": [
  {
   "cell_type": "code",
   "execution_count": 70,
   "id": "1bd9531c-a6d7-4876-9246-26e377cc0a96",
   "metadata": {},
   "outputs": [],
   "source": [
    "# Name : Neeraja Prabhudesai\n",
    "# Enrollment no.- 0006"
   ]
  },
  {
   "cell_type": "code",
   "execution_count": 71,
   "id": "322ae719-6687-454d-b31c-33553e77bdb7",
   "metadata": {},
   "outputs": [],
   "source": [
    "'''Dataset\n",
    "Name: news_data.csv, sample_news.txt\n",
    "#Locatoin: https://mitu.co.in/dataset''';"
   ]
  },
  {
   "cell_type": "code",
   "execution_count": 72,
   "id": "e8b94935-8fc7-4188-923f-7e4461f07dd3",
   "metadata": {},
   "outputs": [
    {
     "data": {
      "text/plain": [
       "['.anaconda',\n",
       " '.cache',\n",
       " '.conda',\n",
       " '.condarc',\n",
       " '.continuum',\n",
       " '.ipynb_checkpoints',\n",
       " '.ipython',\n",
       " '.jupyter',\n",
       " '.matplotlib',\n",
       " '.ms-ad',\n",
       " '.vscode',\n",
       " '10_Data_Analysis_using_Pandas.ipynb',\n",
       " '11_Tokenization.ipynb',\n",
       " '12_Web_Scrapping.ipynb',\n",
       " '13_Stemming.ipynb',\n",
       " '14_Lemmatization.ipynb',\n",
       " '15_POS_Tagging.ipynb',\n",
       " '16_Indian_Language_POS_Tagging.ipynb',\n",
       " '17_Stopwords.ipynb',\n",
       " '18_Sample_Application.ipynb',\n",
       " '19_Synonyms and Antonyms.ipynb',\n",
       " '1_Python_Basics.ipynb',\n",
       " '20_Morphological_Analysis.ipynb',\n",
       " '21_NER.ipynb',\n",
       " '22_Transliteration.ipynb',\n",
       " '23_Computational_Linguistics_Classification.ipynb',\n",
       " '24_Text_to_Speech.ipynb',\n",
       " '25_Speech_to_text.ipynb',\n",
       " '5_Adv_Machine_Learning.ipynb',\n",
       " '6_Exception_Handling.ipynb',\n",
       " '7_File_Handling.ipynb',\n",
       " '8_Classes_and_Objects.ipynb',\n",
       " '9_Arrays.ipynb',\n",
       " 'Advance_Assignment_1.ipynb',\n",
       " 'Adv_1_Information Extraction.ipynb',\n",
       " 'Adv_2_Text_Summerization.ipynb',\n",
       " 'Adv_3_Word_Sense_Disambiguation.ipynb',\n",
       " 'Adv_4_Data_Preperation.ipynb',\n",
       " 'Adv_Assignment_2.ipynb',\n",
       " 'Adv_Assignment_3.ipynb',\n",
       " 'anaconda3',\n",
       " 'AppData',\n",
       " 'Application Data',\n",
       " 'Assignment_1.ipynb',\n",
       " 'Assignment_2.ipynb',\n",
       " 'Assignment_3.ipynb',\n",
       " 'Assignment_4.ipynb',\n",
       " 'Contacts',\n",
       " 'Cookies',\n",
       " 'course.pdf',\n",
       " 'course.txt',\n",
       " 'cricket.csv',\n",
       " 'Data_Structure.ipynb',\n",
       " 'Documents',\n",
       " 'Downloads',\n",
       " 'Favorites',\n",
       " 'Functions.ipynb',\n",
       " 'IntelGraphicsProfiles',\n",
       " 'introduction-to-natural-language-processing.pdf',\n",
       " 'Links',\n",
       " 'Local Settings',\n",
       " 'Machine-Learning-and-Natural-Language-Processing.docx',\n",
       " 'Modules.ipynb',\n",
       " 'mount.txt',\n",
       " 'Music',\n",
       " 'My Documents',\n",
       " 'mydata.txt',\n",
       " 'myvoice.mp3',\n",
       " 'NetHood',\n",
       " 'news_data.csv',\n",
       " 'nlp.txt',\n",
       " 'NTUSER.DAT',\n",
       " 'ntuser.dat.LOG1',\n",
       " 'ntuser.dat.LOG2',\n",
       " 'NTUSER.DAT{69f2bddd-b9cb-11ed-8afd-dd4fc8e6e9a7}.TM.blf',\n",
       " 'NTUSER.DAT{69f2bddd-b9cb-11ed-8afd-dd4fc8e6e9a7}.TMContainer00000000000000000001.regtrans-ms',\n",
       " 'NTUSER.DAT{69f2bddd-b9cb-11ed-8afd-dd4fc8e6e9a7}.TMContainer00000000000000000002.regtrans-ms',\n",
       " 'ntuser.ini',\n",
       " 'OneDrive',\n",
       " 'output.csv',\n",
       " 'Practice_code.ipynb',\n",
       " 'PrintHood',\n",
       " 'Pune_test.txt',\n",
       " 'Recent',\n",
       " 'sample.csv',\n",
       " 'sample_news.txt',\n",
       " 'Saved Games',\n",
       " 'Searches',\n",
       " 'SendTo',\n",
       " 'SMSSpamCollection',\n",
       " 'spam_messages.csv',\n",
       " 'SPP.docx',\n",
       " 'Start Menu',\n",
       " 'student.csv',\n",
       " 'temp.txt',\n",
       " 'temp1.txt',\n",
       " 'temp2.txt',\n",
       " 'Templates',\n",
       " 'test.txt',\n",
       " 'Untitled.ipynb',\n",
       " 'Untitled1.ipynb',\n",
       " 'Untitled2.ipynb',\n",
       " 'Untitled3.ipynb',\n",
       " 'Untitled4.ipynb',\n",
       " 'Untitled5.ipynb',\n",
       " 'Untitled6.ipynb',\n",
       " 'Untitled7.ipynb',\n",
       " 'Untitled8.ipynb',\n",
       " 'Videos']"
      ]
     },
     "execution_count": 72,
     "metadata": {},
     "output_type": "execute_result"
    }
   ],
   "source": [
    "#can find list of the files present in the directory\n",
    "import os\n",
    "os.listdir(os.getcwd())"
   ]
  },
  {
   "cell_type": "code",
   "execution_count": 73,
   "id": "08208f10-29ad-40b8-887d-98177b07b32c",
   "metadata": {},
   "outputs": [],
   "source": [
    "#import the libraries\n",
    "#going to classify the data -- if the news is fake or real and build the decision tree\n",
    "# pandas is used for substitute analysis -- seaborn and matplotlib is used for visualisation of the data\n",
    "import pandas as pd\n",
    "import seaborn as sns\n",
    "import matplotlib.pyplot as plt"
   ]
  },
  {
   "cell_type": "code",
   "execution_count": 74,
   "id": "266bbf95-e0a8-402b-ba25-9ef0aa27918a",
   "metadata": {},
   "outputs": [
    {
     "data": {
      "text/plain": [
       "(9900, 2)"
      ]
     },
     "execution_count": 74,
     "metadata": {},
     "output_type": "execute_result"
    }
   ],
   "source": [
    "# data preperation\n",
    "# read the dataset\n",
    "\n",
    "df = pd.read_csv('news_data.csv')\n",
    "df.shape"
   ]
  },
  {
   "cell_type": "code",
   "execution_count": 75,
   "id": "3c0a3577-7f34-4123-a882-8f880df01f83",
   "metadata": {},
   "outputs": [
    {
     "data": {
      "text/plain": [
       "Index(['Text', 'label'], dtype='object')"
      ]
     },
     "execution_count": 75,
     "metadata": {},
     "output_type": "execute_result"
    }
   ],
   "source": [
    "df.columns\n",
    "# text - input data, label- o/p data"
   ]
  },
  {
   "cell_type": "code",
   "execution_count": 76,
   "id": "3aca912b-37e1-4cc8-a38c-9e4809d273e6",
   "metadata": {},
   "outputs": [],
   "source": [
    "# so here we need to seperate i/p and o/p data - whenever we are building the ML algorithm\n",
    "features = df['Text'] # i/p data - have to find the pattern present in it, convert and seperate\n",
    "label = df['label'] # o/p data"
   ]
  },
  {
   "cell_type": "code",
   "execution_count": 77,
   "id": "67b2a7bf-d0f6-4d25-b29f-b5e6d13fecce",
   "metadata": {},
   "outputs": [
    {
     "data": {
      "text/plain": [
       "0     Top Trump Surrogate BRUTALLY Stabs Him In The...\n",
       "1    U.S. conservative leader optimistic of common ...\n",
       "2    Trump proposes U.S. tax overhaul, stirs concer...\n",
       "3     Court Forces Ohio To Allow Millions Of Illega...\n",
       "4    Democrats say Trump agrees to work on immigrat...\n",
       "Name: Text, dtype: object"
      ]
     },
     "execution_count": 77,
     "metadata": {},
     "output_type": "execute_result"
    }
   ],
   "source": [
    "features.head() # i/p data = x \n",
    "#head is the method of fetching first 5 datas from df"
   ]
  },
  {
   "cell_type": "code",
   "execution_count": 78,
   "id": "0398b9b2-bdb5-4500-b6c7-d2b565baaf14",
   "metadata": {},
   "outputs": [
    {
     "data": {
      "text/plain": [
       "0       Fake\n",
       "1       Real\n",
       "2       Real\n",
       "3       Fake\n",
       "4       Real\n",
       "        ... \n",
       "9895    Fake\n",
       "9896    Real\n",
       "9897    Real\n",
       "9898    Fake\n",
       "9899    Fake\n",
       "Name: label, Length: 9900, dtype: object"
      ]
     },
     "execution_count": 78,
     "metadata": {},
     "output_type": "execute_result"
    }
   ],
   "source": [
    "label # o/p f the i/p data = y - it will truncate the data"
   ]
  },
  {
   "cell_type": "code",
   "execution_count": 79,
   "id": "4519b2fd-8aa7-419e-adf6-c21dd76bd659",
   "metadata": {},
   "outputs": [
    {
     "data": {
      "text/plain": [
       "{'Fake', 'Real'}"
      ]
     },
     "execution_count": 79,
     "metadata": {},
     "output_type": "execute_result"
    }
   ],
   "source": [
    "#to check how many categories are there for o/p data\n",
    "\n",
    "set(label)"
   ]
  },
  {
   "cell_type": "code",
   "execution_count": 80,
   "id": "12b6a9da-10f4-4e19-8f24-58bf1f973773",
   "metadata": {},
   "outputs": [
    {
     "data": {
      "text/plain": [
       "<Axes: xlabel='label', ylabel='count'>"
      ]
     },
     "execution_count": 80,
     "metadata": {},
     "output_type": "execute_result"
    },
    {
     "data": {
      "image/png": "[encoded data removed]",
      "text/plain": [
       "<Figure size 640x480 with 1 Axes>"
      ]
     },
     "metadata": {},
     "output_type": "display_data"
    }
   ],
   "source": [
    "# what balance these labels carry - number of theses categories - chart is available\n",
    "\n",
    "sns.countplot(x=label)\n",
    "#almost 50% fake and 50% real"
   ]
  },
  {
   "cell_type": "code",
   "execution_count": 81,
   "id": "c293bcf3-7a67-427a-8e92-6c8423123909",
   "metadata": {},
   "outputs": [],
   "source": [
    "# ML step by step --> preperation/preprocessing - ML model building - Evaluation - prediction on new news"
   ]
  },
  {
   "cell_type": "code",
   "execution_count": 82,
   "id": "10f4dc8c-91d6-49f4-9991-85f45107dbcd",
   "metadata": {},
   "outputs": [
    {
     "data": {
      "text/plain": [
       "label\n",
       "Fake    5000\n",
       "Real    4900\n",
       "Name: count, dtype: int64"
      ]
     },
     "execution_count": 82,
     "metadata": {},
     "output_type": "execute_result"
    }
   ],
   "source": [
    "label.value_counts()"
   ]
  },
  {
   "cell_type": "code",
   "execution_count": 83,
   "id": "b5afc47b-b926-46b9-ba1a-5788143f8d71",
   "metadata": {},
   "outputs": [
    {
     "data": {
      "text/plain": [
       "([<matplotlib.patches.Wedge at 0x1e5090cf990>,\n",
       "  <matplotlib.patches.Wedge at 0x1e509183450>],\n",
       " [Text(-0.017452474924647392, 1.0998615417946955, 'Fake'),\n",
       "  Text(0.017452371948178103, -1.0998615434287093, 'Real')],\n",
       " [Text(-0.009519531777080396, 0.599924477342561, '50.51%'),\n",
       "  Text(0.009519475608097145, -0.5999244782338414, '49.49%')])"
      ]
     },
     "execution_count": 83,
     "metadata": {},
     "output_type": "execute_result"
    },
    {
     "data": {
      "image/png": "[encoded data removed]",
      "text/plain": [
       "<Figure size 640x480 with 1 Axes>"
      ]
     },
     "metadata": {},
     "output_type": "display_data"
    }
   ],
   "source": [
    "plt.pie(label.value_counts(), labels=label.value_counts().index, autopct='%2.2f%%')"
   ]
  },
  {
   "cell_type": "code",
   "execution_count": 84,
   "id": "d455ae5a-d19a-46be-ad05-b747b591d9aa",
   "metadata": {},
   "outputs": [],
   "source": [
    "# Data Preperation--\n",
    "# Data cleaning"
   ]
  },
  {
   "cell_type": "code",
   "execution_count": 85,
   "id": "dcd82fcf-52af-49a2-8d15-e0861fa918ac",
   "metadata": {},
   "outputs": [],
   "source": [
    "from nltk.tokenize import word_tokenize\n",
    "from nltk.corpus import stopwords\n",
    "from nltk.stem import PorterStemmer"
   ]
  },
  {
   "cell_type": "code",
   "execution_count": 86,
   "id": "004a317b-5bf1-4aaa-9c86-8a46a889bcb2",
   "metadata": {},
   "outputs": [],
   "source": [
    "# Step 1 - Tokenize"
   ]
  },
  {
   "cell_type": "code",
   "execution_count": 87,
   "id": "7b6ee27e-60b4-45cc-915b-95ad9b82bce6",
   "metadata": {},
   "outputs": [
    {
     "data": {
      "text/plain": [
       "['Hello',\n",
       " 'friends',\n",
       " '!',\n",
       " 'How',\n",
       " 'are',\n",
       " 'you',\n",
       " '?',\n",
       " 'I',\n",
       " 'like',\n",
       " 'Python',\n",
       " 'Programming',\n",
       " '.']"
      ]
     },
     "execution_count": 87,
     "metadata": {},
     "output_type": "execute_result"
    }
   ],
   "source": [
    "# Tokenization example\n",
    "sent = 'Hello friends! How are you? I like Python Programming.'\n",
    "tokens1 = word_tokenize(sent)\n",
    "tokens1"
   ]
  },
  {
   "cell_type": "code",
   "execution_count": 88,
   "id": "2784971b-4749-4a5b-9157-5b4d92387136",
   "metadata": {},
   "outputs": [],
   "source": [
    "# remove punctuations\n",
    "tokens2 = [x.lower() for x in tokens1 if x.isalpha()]"
   ]
  },
  {
   "cell_type": "code",
   "execution_count": 89,
   "id": "372d0290-0161-49b4-83b3-2413161305d4",
   "metadata": {},
   "outputs": [
    {
     "data": {
      "text/plain": [
       "['hello', 'friends', 'how', 'are', 'you', 'i', 'like', 'python', 'programming']"
      ]
     },
     "execution_count": 89,
     "metadata": {},
     "output_type": "execute_result"
    }
   ],
   "source": [
    "tokens2"
   ]
  },
  {
   "cell_type": "code",
   "execution_count": 90,
   "id": "20a10794-90e3-4ae2-a890-c9211b5daf11",
   "metadata": {},
   "outputs": [
    {
     "data": {
      "text/plain": [
       "['i',\n",
       " 'me',\n",
       " 'my',\n",
       " 'myself',\n",
       " 'we',\n",
       " 'our',\n",
       " 'ours',\n",
       " 'ourselves',\n",
       " 'you',\n",
       " \"you're\",\n",
       " \"you've\",\n",
       " \"you'll\",\n",
       " \"you'd\",\n",
       " 'your',\n",
       " 'yours',\n",
       " 'yourself',\n",
       " 'yourselves',\n",
       " 'he',\n",
       " 'him',\n",
       " 'his',\n",
       " 'himself',\n",
       " 'she',\n",
       " \"she's\",\n",
       " 'her',\n",
       " 'hers',\n",
       " 'herself',\n",
       " 'it',\n",
       " \"it's\",\n",
       " 'its',\n",
       " 'itself',\n",
       " 'they',\n",
       " 'them',\n",
       " 'their',\n",
       " 'theirs',\n",
       " 'themselves',\n",
       " 'what',\n",
       " 'which',\n",
       " 'who',\n",
       " 'whom',\n",
       " 'this',\n",
       " 'that',\n",
       " \"that'll\",\n",
       " 'these',\n",
       " 'those',\n",
       " 'am',\n",
       " 'is',\n",
       " 'are',\n",
       " 'was',\n",
       " 'were',\n",
       " 'be',\n",
       " 'been',\n",
       " 'being',\n",
       " 'have',\n",
       " 'has',\n",
       " 'had',\n",
       " 'having',\n",
       " 'do',\n",
       " 'does',\n",
       " 'did',\n",
       " 'doing',\n",
       " 'a',\n",
       " 'an',\n",
       " 'the',\n",
       " 'and',\n",
       " 'but',\n",
       " 'if',\n",
       " 'or',\n",
       " 'because',\n",
       " 'as',\n",
       " 'until',\n",
       " 'while',\n",
       " 'of',\n",
       " 'at',\n",
       " 'by',\n",
       " 'for',\n",
       " 'with',\n",
       " 'about',\n",
       " 'against',\n",
       " 'between',\n",
       " 'into',\n",
       " 'through',\n",
       " 'during',\n",
       " 'before',\n",
       " 'after',\n",
       " 'above',\n",
       " 'below',\n",
       " 'to',\n",
       " 'from',\n",
       " 'up',\n",
       " 'down',\n",
       " 'in',\n",
       " 'out',\n",
       " 'on',\n",
       " 'off',\n",
       " 'over',\n",
       " 'under',\n",
       " 'again',\n",
       " 'further',\n",
       " 'then',\n",
       " 'once',\n",
       " 'here',\n",
       " 'there',\n",
       " 'when',\n",
       " 'where',\n",
       " 'why',\n",
       " 'how',\n",
       " 'all',\n",
       " 'any',\n",
       " 'both',\n",
       " 'each',\n",
       " 'few',\n",
       " 'more',\n",
       " 'most',\n",
       " 'other',\n",
       " 'some',\n",
       " 'such',\n",
       " 'no',\n",
       " 'nor',\n",
       " 'not',\n",
       " 'only',\n",
       " 'own',\n",
       " 'same',\n",
       " 'so',\n",
       " 'than',\n",
       " 'too',\n",
       " 'very',\n",
       " 's',\n",
       " 't',\n",
       " 'can',\n",
       " 'will',\n",
       " 'just',\n",
       " 'don',\n",
       " \"don't\",\n",
       " 'should',\n",
       " \"should've\",\n",
       " 'now',\n",
       " 'd',\n",
       " 'll',\n",
       " 'm',\n",
       " 'o',\n",
       " 're',\n",
       " 've',\n",
       " 'y',\n",
       " 'ain',\n",
       " 'aren',\n",
       " \"aren't\",\n",
       " 'couldn',\n",
       " \"couldn't\",\n",
       " 'didn',\n",
       " \"didn't\",\n",
       " 'doesn',\n",
       " \"doesn't\",\n",
       " 'hadn',\n",
       " \"hadn't\",\n",
       " 'hasn',\n",
       " \"hasn't\",\n",
       " 'haven',\n",
       " \"haven't\",\n",
       " 'isn',\n",
       " \"isn't\",\n",
       " 'ma',\n",
       " 'mightn',\n",
       " \"mightn't\",\n",
       " 'mustn',\n",
       " \"mustn't\",\n",
       " 'needn',\n",
       " \"needn't\",\n",
       " 'shan',\n",
       " \"shan't\",\n",
       " 'shouldn',\n",
       " \"shouldn't\",\n",
       " 'wasn',\n",
       " \"wasn't\",\n",
       " 'weren',\n",
       " \"weren't\",\n",
       " 'won',\n",
       " \"won't\",\n",
       " 'wouldn',\n",
       " \"wouldn't\"]"
      ]
     },
     "execution_count": 90,
     "metadata": {},
     "output_type": "execute_result"
    }
   ],
   "source": [
    "#remove the stopwords\n",
    "swords = stopwords.words('english')\n",
    "swords"
   ]
  },
  {
   "cell_type": "code",
   "execution_count": 91,
   "id": "a8125d40-0e6b-47a9-a3d7-76c55233f898",
   "metadata": {},
   "outputs": [
    {
     "data": {
      "text/plain": [
       "['hello', 'friends', 'like', 'python', 'programming']"
      ]
     },
     "execution_count": 91,
     "metadata": {},
     "output_type": "execute_result"
    }
   ],
   "source": [
    "tokens3 = [x for x in tokens2 if x not in swords]\n",
    "tokens3"
   ]
  },
  {
   "cell_type": "code",
   "execution_count": 92,
   "id": "7af026ec-cb13-4baa-b259-bfcac3efec15",
   "metadata": {},
   "outputs": [],
   "source": [
    "#remove suffixes\n",
    "ps = PorterStemmer()"
   ]
  },
  {
   "cell_type": "code",
   "execution_count": 93,
   "id": "3709b706-6429-42b8-9022-fccf592d468b",
   "metadata": {},
   "outputs": [
    {
     "data": {
      "text/plain": [
       "['hello', 'friend', 'like', 'python', 'program']"
      ]
     },
     "execution_count": 93,
     "metadata": {},
     "output_type": "execute_result"
    }
   ],
   "source": [
    "tokens4 = [ps.stem(x) for x in tokens3]\n",
    "tokens4"
   ]
  },
  {
   "cell_type": "code",
   "execution_count": 94,
   "id": "9a38c4bc-890e-4a91-bdcc-3573cc6071fd",
   "metadata": {},
   "outputs": [],
   "source": [
    "#define a function for text cleaning\n",
    "def clean_text(sent):\n",
    "    tokens1 = word_tokenize(sent)\n",
    "    tokens2 = [x.lower() for x in tokens1 if x.isalpha()]\n",
    "    tokens3 = [x for x in tokens2 if x not in swords]\n",
    "    tokens4 = [ps.stem(x) for x in tokens3]\n",
    "    return tokens4"
   ]
  },
  {
   "cell_type": "code",
   "execution_count": 95,
   "id": "0a908b1a-4800-4758-b9f4-a61fb2d84f2c",
   "metadata": {},
   "outputs": [
    {
     "data": {
      "text/plain": [
       "['hello', 'friend', 'like', 'python', 'program']"
      ]
     },
     "execution_count": 95,
     "metadata": {},
     "output_type": "execute_result"
    }
   ],
   "source": [
    "clean_text(sent)"
   ]
  },
  {
   "cell_type": "code",
   "execution_count": 96,
   "id": "966d7492-60bf-4be7-a78a-8ca6794ceae2",
   "metadata": {},
   "outputs": [],
   "source": [
    "new_sent = 'It was the expected result. They told the same on fields.'"
   ]
  },
  {
   "cell_type": "code",
   "execution_count": 97,
   "id": "655d06ea-93a3-4cbd-a499-c88974591a1c",
   "metadata": {},
   "outputs": [
    {
     "data": {
      "text/plain": [
       "['expect', 'result', 'told', 'field']"
      ]
     },
     "execution_count": 97,
     "metadata": {},
     "output_type": "execute_result"
    }
   ],
   "source": [
    "clean_text(new_sent)"
   ]
  },
  {
   "cell_type": "code",
   "execution_count": 98,
   "id": "1628b576-4d33-4a74-bcc3-ab9604d784d1",
   "metadata": {},
   "outputs": [
    {
     "data": {
      "text/plain": [
       "' Ranking Dem On House Russia Probe Has EXPLOSIVE News For Trump That Will Have Him Running Scared As everybody who still believes in democracy and true freedom reels from FBI Director James Comey s firing, the media and members of Congress have been frantically working to get the deets on what happened. Rep. Adam Schiff, the ranking member of the House Intelligence Committee (which is conducting its own investigation into Russia), just dropped a truth bomb about Comey, and Trump would be wise to go find a cave and hide in it now.Schiff was asked, on CNN, whether he believes this is a cover-up. He doesn t. He thinks it s something worse: It s a brazen interference with a criminal investigation. After all, the president calls this whole investigation a fake, and here you had an FBI director who was seriously looking into whether Trump associates were colluding with the Russians. The end of his statement to CNN should be particularly jarring to anybody familiar with history. Watch below:Rep. Adam Schiff on firing of FBI Director James Comey:  It s a brazen interference with a criminal investigation  https://t.co/5SXgAuTVBP  CNN (@CNN) May 10, 2017Earlier this year, the White House tried to get the FBI to publicly dispute stories appearing in The New York Times about contacts between Trump s associates and Russian actors. They ve been trying to bend the FBI to their will for a long time, and when Comey wouldn t lie under oath for them, or end his Russia probe, Trump decided to fire him.In fact, Jeff Sessions was actually told to find reasons to fire Comey, and they ve been working on it for at least a week. Trump likely wants someone in that position who ll end that investigation before they discover something really damning. He wants a puppet.If Trump was innocent, the White House wouldn t have been looking for reasons to fire Comey now. Comey may not have even been fired, but if he was, Trump probably would have done it when he took office under the guise of getting a fresh start, as Schiff said to CNN. This is not the behavior of an innocent man.Featured image via Mark Wilson/Getty Images'"
      ]
     },
     "execution_count": 98,
     "metadata": {},
     "output_type": "execute_result"
    }
   ],
   "source": [
    "features[123]"
   ]
  },
  {
   "cell_type": "code",
   "execution_count": 99,
   "id": "34612b9d-6a5c-4584-8fe6-74296879a891",
   "metadata": {},
   "outputs": [
    {
     "data": {
      "text/plain": [
       "['rank',\n",
       " 'dem',\n",
       " 'hous',\n",
       " 'russia',\n",
       " 'probe',\n",
       " 'explos',\n",
       " 'news',\n",
       " 'trump',\n",
       " 'run',\n",
       " 'scare',\n",
       " 'everybodi',\n",
       " 'still',\n",
       " 'believ',\n",
       " 'democraci',\n",
       " 'true',\n",
       " 'freedom',\n",
       " 'reel',\n",
       " 'fbi',\n",
       " 'director',\n",
       " 'jame',\n",
       " 'comey',\n",
       " 'fire',\n",
       " 'media',\n",
       " 'member',\n",
       " 'congress',\n",
       " 'frantic',\n",
       " 'work',\n",
       " 'get',\n",
       " 'deet',\n",
       " 'happen',\n",
       " 'adam',\n",
       " 'schiff',\n",
       " 'rank',\n",
       " 'member',\n",
       " 'hous',\n",
       " 'intellig',\n",
       " 'committe',\n",
       " 'conduct',\n",
       " 'investig',\n",
       " 'russia',\n",
       " 'drop',\n",
       " 'truth',\n",
       " 'bomb',\n",
       " 'comey',\n",
       " 'trump',\n",
       " 'would',\n",
       " 'wise',\n",
       " 'go',\n",
       " 'find',\n",
       " 'cave',\n",
       " 'hide',\n",
       " 'ask',\n",
       " 'cnn',\n",
       " 'whether',\n",
       " 'believ',\n",
       " 'think',\n",
       " 'someth',\n",
       " 'wors',\n",
       " 'brazen',\n",
       " 'interfer',\n",
       " 'crimin',\n",
       " 'investig',\n",
       " 'presid',\n",
       " 'call',\n",
       " 'whole',\n",
       " 'investig',\n",
       " 'fake',\n",
       " 'fbi',\n",
       " 'director',\n",
       " 'serious',\n",
       " 'look',\n",
       " 'whether',\n",
       " 'trump',\n",
       " 'associ',\n",
       " 'collud',\n",
       " 'russian',\n",
       " 'end',\n",
       " 'statement',\n",
       " 'cnn',\n",
       " 'particularli',\n",
       " 'jar',\n",
       " 'anybodi',\n",
       " 'familiar',\n",
       " 'histori',\n",
       " 'watch',\n",
       " 'adam',\n",
       " 'schiff',\n",
       " 'fire',\n",
       " 'fbi',\n",
       " 'director',\n",
       " 'jame',\n",
       " 'comey',\n",
       " 'brazen',\n",
       " 'interfer',\n",
       " 'crimin',\n",
       " 'investig',\n",
       " 'http',\n",
       " 'cnn',\n",
       " 'cnn',\n",
       " 'may',\n",
       " 'year',\n",
       " 'white',\n",
       " 'hous',\n",
       " 'tri',\n",
       " 'get',\n",
       " 'fbi',\n",
       " 'publicli',\n",
       " 'disput',\n",
       " 'stori',\n",
       " 'appear',\n",
       " 'new',\n",
       " 'york',\n",
       " 'time',\n",
       " 'contact',\n",
       " 'trump',\n",
       " 'associ',\n",
       " 'russian',\n",
       " 'actor',\n",
       " 'tri',\n",
       " 'bend',\n",
       " 'fbi',\n",
       " 'long',\n",
       " 'time',\n",
       " 'comey',\n",
       " 'lie',\n",
       " 'oath',\n",
       " 'end',\n",
       " 'russia',\n",
       " 'probe',\n",
       " 'trump',\n",
       " 'decid',\n",
       " 'fire',\n",
       " 'fact',\n",
       " 'jeff',\n",
       " 'session',\n",
       " 'actual',\n",
       " 'told',\n",
       " 'find',\n",
       " 'reason',\n",
       " 'fire',\n",
       " 'comey',\n",
       " 'work',\n",
       " 'least',\n",
       " 'week',\n",
       " 'trump',\n",
       " 'like',\n",
       " 'want',\n",
       " 'someon',\n",
       " 'posit',\n",
       " 'end',\n",
       " 'investig',\n",
       " 'discov',\n",
       " 'someth',\n",
       " 'realli',\n",
       " 'damn',\n",
       " 'want',\n",
       " 'trump',\n",
       " 'innoc',\n",
       " 'white',\n",
       " 'hous',\n",
       " 'look',\n",
       " 'reason',\n",
       " 'fire',\n",
       " 'comey',\n",
       " 'comey',\n",
       " 'may',\n",
       " 'even',\n",
       " 'fire',\n",
       " 'trump',\n",
       " 'probabl',\n",
       " 'would',\n",
       " 'done',\n",
       " 'took',\n",
       " 'offic',\n",
       " 'guis',\n",
       " 'get',\n",
       " 'fresh',\n",
       " 'start',\n",
       " 'schiff',\n",
       " 'said',\n",
       " 'cnn',\n",
       " 'behavior',\n",
       " 'innoc',\n",
       " 'imag',\n",
       " 'via',\n",
       " 'mark',\n",
       " 'imag']"
      ]
     },
     "execution_count": 99,
     "metadata": {},
     "output_type": "execute_result"
    }
   ],
   "source": [
    "clean_text(features[123])"
   ]
  },
  {
   "cell_type": "code",
   "execution_count": 100,
   "id": "c74b2ce1-9857-4e02-8a33-fdc97a21ba27",
   "metadata": {},
   "outputs": [],
   "source": [
    "###Tf IDF vectorization\n",
    "#import the class\n",
    "from sklearn.feature_extraction.text import TfidfVectorizer"
   ]
  },
  {
   "cell_type": "code",
   "execution_count": 101,
   "id": "0df6a863-bd22-4317-b839-d5cf80b3c80d",
   "metadata": {},
   "outputs": [],
   "source": [
    "#create the objective\n",
    "tfidf = TfidfVectorizer(analyzer=clean_text)\n",
    "#class- TfidfVectorizer\n",
    "#constructer-(analyzer=clean_text)\n",
    "#parameter- analyzer\n",
    "# function- clean_text"
   ]
  },
  {
   "cell_type": "code",
   "execution_count": 102,
   "id": "9044de4a-f78a-432c-9df7-46c32e8e554a",
   "metadata": {},
   "outputs": [],
   "source": [
    "#Perform the operation\n",
    "features_new = tfidf.fit_transform(features)"
   ]
  },
  {
   "cell_type": "code",
   "execution_count": 103,
   "id": "ae840e02-1133-4972-915e-39abadff94e9",
   "metadata": {},
   "outputs": [
    {
     "data": {
      "text/plain": [
       "(9900, 33562)"
      ]
     },
     "execution_count": 103,
     "metadata": {},
     "output_type": "execute_result"
    }
   ],
   "source": [
    "features_new.shape\n",
    "#no. of unique words= columns - 33562\n",
    "# messages - 9900"
   ]
  },
  {
   "cell_type": "code",
   "execution_count": 104,
   "id": "900dafbf-8cee-4b30-a000-d9c47b8dd63a",
   "metadata": {},
   "outputs": [
    {
     "data": {
      "text/plain": [
       "33562"
      ]
     },
     "execution_count": 104,
     "metadata": {},
     "output_type": "execute_result"
    }
   ],
   "source": [
    "len(tfidf.get_feature_names_out())"
   ]
  },
  {
   "cell_type": "code",
   "execution_count": 105,
   "id": "e5406827-0e0a-48f5-8aa4-2b2012be1a8b",
   "metadata": {},
   "outputs": [],
   "source": [
    "#evaluation of the algorithm--\n",
    "'''how to find the accuracy of the model is evaluation\n",
    "the technique used for this, is cross validation\n",
    "dividing the dataset into 2 parts testing and training\n",
    "algorithm will learn from the testing data and build/train the model -->decision tree is created on trainng data --> apply the test data as i/p to th algorithm\n",
    "--> can find the accuracy of the model-->deploy the model''';"
   ]
  },
  {
   "cell_type": "code",
   "execution_count": 106,
   "id": "d76ec9ef-9ac2-439f-8b2f-20d1f357d984",
   "metadata": {},
   "outputs": [],
   "source": [
    "#Cross Validation\n",
    "#total no. of entries are 9990 hence around 75% of the data will go for training\n",
    "# import the function\n",
    "from sklearn.model_selection import train_test_split"
   ]
  },
  {
   "cell_type": "code",
   "execution_count": 107,
   "id": "7ab0d8fa-793c-4353-9ce5-e15086a5ca59",
   "metadata": {},
   "outputs": [],
   "source": [
    "#perform the cross validation\n",
    "x_train, x_test, y_train, y_test = train_test_split(features_new, label, random_state=0)\n",
    "# (input= features_new and output data= labelin testing and training)\n",
    "#fixed randomization will be done by random state = 0"
   ]
  },
  {
   "cell_type": "code",
   "execution_count": 108,
   "id": "01142efc-821a-4617-8cf1-8c98c581447d",
   "metadata": {},
   "outputs": [
    {
     "data": {
      "text/plain": [
       "(7425, 33562)"
      ]
     },
     "execution_count": 108,
     "metadata": {},
     "output_type": "execute_result"
    }
   ],
   "source": [
    "x_train.shape\n",
    "# we will be buildng model on train data"
   ]
  },
  {
   "cell_type": "code",
   "execution_count": 109,
   "id": "a3b66b00-ed4c-4b8e-ac38-3c91909b3556",
   "metadata": {},
   "outputs": [
    {
     "data": {
      "text/plain": [
       "(2475, 33562)"
      ]
     },
     "execution_count": 109,
     "metadata": {},
     "output_type": "execute_result"
    }
   ],
   "source": [
    "x_test.shape"
   ]
  },
  {
   "cell_type": "code",
   "execution_count": 110,
   "id": "83f2a13a-01b8-4a18-b7dd-9c8f0cacdae9",
   "metadata": {},
   "outputs": [
    {
     "data": {
      "text/plain": [
       "(7425,)"
      ]
     },
     "execution_count": 110,
     "metadata": {},
     "output_type": "execute_result"
    }
   ],
   "source": [
    "y_train.shape\n",
    "#only output"
   ]
  },
  {
   "cell_type": "code",
   "execution_count": 111,
   "id": "6ed0d41b-4c4c-48b2-a1b5-3c597d60647e",
   "metadata": {},
   "outputs": [
    {
     "data": {
      "text/plain": [
       "(2475,)"
      ]
     },
     "execution_count": 111,
     "metadata": {},
     "output_type": "execute_result"
    }
   ],
   "source": [
    "y_test.shape"
   ]
  },
  {
   "cell_type": "markdown",
   "id": "738a3e22-0463-460f-87cb-6c8bbde9e9be",
   "metadata": {},
   "source": [
    "##### buld the decision tree algorithm model on the training data"
   ]
  },
  {
   "cell_type": "code",
   "execution_count": 112,
   "id": "38eb93f7-39d9-4a7a-8dcd-2184c9d157d3",
   "metadata": {},
   "outputs": [],
   "source": [
    "# import the class - logic is already created in the subpackage\n",
    "from sklearn.tree import DecisionTreeClassifier"
   ]
  },
  {
   "cell_type": "code",
   "execution_count": 113,
   "id": "6df7a308-2b03-468a-87b3-4f5a793bf7f1",
   "metadata": {},
   "outputs": [],
   "source": [
    "#create the object\n",
    "dt = DecisionTreeClassifier(random_state=0)"
   ]
  },
  {
   "cell_type": "code",
   "execution_count": 114,
   "id": "010d71d0-b3c7-4bde-83a7-6bac69beccef",
   "metadata": {},
   "outputs": [
    {
     "data": {
      "text/html": [
       "<style>#sk-container-id-2 {color: black;background-color: white;}#sk-container-id-2 pre{padding: 0;}#sk-container-id-2 div.sk-toggleable {background-color: white;}#sk-container-id-2 label.sk-toggleable__label {cursor: pointer;display: block;width: 100%;margin-bottom: 0;padding: 0.3em;box-sizing: border-box;text-align: center;}#sk-container-id-2 label.sk-toggleable__label-arrow:before {content: \"▸\";float: left;margin-right: 0.25em;color: #696969;}#sk-container-id-2 label.sk-toggleable__label-arrow:hover:before {color: black;}#sk-container-id-2 div.sk-estimator:hover label.sk-toggleable__label-arrow:before {color: black;}#sk-container-id-2 div.sk-toggleable__content {max-height: 0;max-width: 0;overflow: hidden;text-align: left;background-color: #f0f8ff;}#sk-container-id-2 div.sk-toggleable__content pre {margin: 0.2em;color: black;border-radius: 0.25em;background-color: #f0f8ff;}#sk-container-id-2 input.sk-toggleable__control:checked~div.sk-toggleable__content {max-height: 200px;max-width: 100%;overflow: auto;}#sk-container-id-2 input.sk-toggleable__control:checked~label.sk-toggleable__label-arrow:before {content: \"▾\";}#sk-container-id-2 div.sk-estimator input.sk-toggleable__control:checked~label.sk-toggleable__label {background-color: #d4ebff;}#sk-container-id-2 div.sk-label input.sk-toggleable__control:checked~label.sk-toggleable__label {background-color: #d4ebff;}#sk-container-id-2 input.sk-hidden--visually {border: 0;clip: rect(1px 1px 1px 1px);clip: rect(1px, 1px, 1px, 1px);height: 1px;margin: -1px;overflow: hidden;padding: 0;position: absolute;width: 1px;}#sk-container-id-2 div.sk-estimator {font-family: monospace;background-color: #f0f8ff;border: 1px dotted black;border-radius: 0.25em;box-sizing: border-box;margin-bottom: 0.5em;}#sk-container-id-2 div.sk-estimator:hover {background-color: #d4ebff;}#sk-container-id-2 div.sk-parallel-item::after {content: \"\";width: 100%;border-bottom: 1px solid gray;flex-grow: 1;}#sk-container-id-2 div.sk-label:hover label.sk-toggleable__label {background-color: #d4ebff;}#sk-container-id-2 div.sk-serial::before {content: \"\";position: absolute;border-left: 1px solid gray;box-sizing: border-box;top: 0;bottom: 0;left: 50%;z-index: 0;}#sk-container-id-2 div.sk-serial {display: flex;flex-direction: column;align-items: center;background-color: white;padding-right: 0.2em;padding-left: 0.2em;position: relative;}#sk-container-id-2 div.sk-item {position: relative;z-index: 1;}#sk-container-id-2 div.sk-parallel {display: flex;align-items: stretch;justify-content: center;background-color: white;position: relative;}#sk-container-id-2 div.sk-item::before, #sk-container-id-2 div.sk-parallel-item::before {content: \"\";position: absolute;border-left: 1px solid gray;box-sizing: border-box;top: 0;bottom: 0;left: 50%;z-index: -1;}#sk-container-id-2 div.sk-parallel-item {display: flex;flex-direction: column;z-index: 1;position: relative;background-color: white;}#sk-container-id-2 div.sk-parallel-item:first-child::after {align-self: flex-end;width: 50%;}#sk-container-id-2 div.sk-parallel-item:last-child::after {align-self: flex-start;width: 50%;}#sk-container-id-2 div.sk-parallel-item:only-child::after {width: 0;}#sk-container-id-2 div.sk-dashed-wrapped {border: 1px dashed gray;margin: 0 0.4em 0.5em 0.4em;box-sizing: border-box;padding-bottom: 0.4em;background-color: white;}#sk-container-id-2 div.sk-label label {font-family: monospace;font-weight: bold;display: inline-block;line-height: 1.2em;}#sk-container-id-2 div.sk-label-container {text-align: center;}#sk-container-id-2 div.sk-container {/* jupyter's `normalize.less` sets `[hidden] { display: none; }` but bootstrap.min.css set `[hidden] { display: none !important; }` so we also need the `!important` here to be able to override the default hidden behavior on the sphinx rendered scikit-learn.org. See: https://github.com/scikit-learn/scikit-learn/issues/21755 */display: inline-block !important;position: relative;}#sk-container-id-2 div.sk-text-repr-fallback {display: none;}</style><div id=\"sk-container-id-2\" class=\"sk-top-container\"><div class=\"sk-text-repr-fallback\"><pre>DecisionTreeClassifier(random_state=0)</pre><b>In a Jupyter environment, please rerun this cell to show the HTML representation or trust the notebook. <br />On GitHub, the HTML representation is unable to render, please try loading this page with nbviewer.org.</b></div><div class=\"sk-container\" hidden><div class=\"sk-item\"><div class=\"sk-estimator sk-toggleable\"><input class=\"sk-toggleable__control sk-hidden--visually\" id=\"sk-estimator-id-2\" type=\"checkbox\" checked><label for=\"sk-estimator-id-2\" class=\"sk-toggleable__label sk-toggleable__label-arrow\">DecisionTreeClassifier</label><div class=\"sk-toggleable__content\"><pre>DecisionTreeClassifier(random_state=0)</pre></div></div></div></div></div>"
      ],
      "text/plain": [
       "DecisionTreeClassifier(random_state=0)"
      ]
     },
     "execution_count": 114,
     "metadata": {},
     "output_type": "execute_result"
    }
   ],
   "source": [
    "#train the algorithm\n",
    "# dt is the operator for decesion tree\n",
    "dt.fit(x_train,y_train)\n",
    "# which means - it has found the pattern, or it has learnt from the data\n",
    "#tree s created, and model has been created on the trainig data"
   ]
  },
  {
   "cell_type": "code",
   "execution_count": 115,
   "id": "e51d9144-5d5a-4113-a36a-be15888e6b34",
   "metadata": {},
   "outputs": [],
   "source": [
    "from sklearn.tree import plot_tree"
   ]
  },
  {
   "cell_type": "code",
   "execution_count": 124,
   "id": "deb98d59-202e-4329-94cf-16275e8b3fdb",
   "metadata": {},
   "outputs": [
    {
     "data": {
      "text/plain": [
       "[Text(0.38333333333333336, 0.9166666666666666, 'x[24748] <= 0.003\\ngini = 0.5\\nsamples = 7425\\nvalue = [3727, 3698]'),\n",
       " Text(0.2, 0.75, 'x[9696] <= 0.019\\ngini = 0.002\\nsamples = 3699\\nvalue = [3696, 3]'),\n",
       " Text(0.13333333333333333, 0.5833333333333334, 'x[17132] <= 0.069\\ngini = 0.001\\nsamples = 3697\\nvalue = [3696, 1]'),\n",
       " Text(0.06666666666666667, 0.4166666666666667, 'gini = 0.0\\nsamples = 3696\\nvalue = [3696, 0]'),\n",
       " Text(0.2, 0.4166666666666667, 'gini = 0.0\\nsamples = 1\\nvalue = [0, 1]'),\n",
       " Text(0.26666666666666666, 0.5833333333333334, 'gini = 0.0\\nsamples = 2\\nvalue = [0, 2]'),\n",
       " Text(0.5666666666666667, 0.75, 'x[13733] <= 0.017\\ngini = 0.017\\nsamples = 3726\\nvalue = [31, 3695]'),\n",
       " Text(0.4, 0.5833333333333334, 'x[13593] <= 0.046\\ngini = 0.001\\nsamples = 3679\\nvalue = [2, 3677]'),\n",
       " Text(0.3333333333333333, 0.4166666666666667, 'x[29320] <= 0.035\\ngini = 0.001\\nsamples = 3678\\nvalue = [1, 3677]'),\n",
       " Text(0.26666666666666666, 0.25, 'gini = 0.0\\nsamples = 3677\\nvalue = [0, 3677]'),\n",
       " Text(0.4, 0.25, 'gini = 0.0\\nsamples = 1\\nvalue = [1, 0]'),\n",
       " Text(0.4666666666666667, 0.4166666666666667, 'gini = 0.0\\nsamples = 1\\nvalue = [1, 0]'),\n",
       " Text(0.7333333333333333, 0.5833333333333334, 'x[25582] <= 0.032\\ngini = 0.473\\nsamples = 47\\nvalue = [29, 18]'),\n",
       " Text(0.6, 0.4166666666666667, 'x[16603] <= 0.035\\ngini = 0.18\\nsamples = 30\\nvalue = [27, 3]'),\n",
       " Text(0.5333333333333333, 0.25, 'gini = 0.0\\nsamples = 26\\nvalue = [26, 0]'),\n",
       " Text(0.6666666666666666, 0.25, 'x[5448] <= 0.05\\ngini = 0.375\\nsamples = 4\\nvalue = [1, 3]'),\n",
       " Text(0.6, 0.08333333333333333, 'gini = 0.0\\nsamples = 3\\nvalue = [0, 3]'),\n",
       " Text(0.7333333333333333, 0.08333333333333333, 'gini = 0.0\\nsamples = 1\\nvalue = [1, 0]'),\n",
       " Text(0.8666666666666667, 0.4166666666666667, 'x[1742] <= 0.022\\ngini = 0.208\\nsamples = 17\\nvalue = [2, 15]'),\n",
       " Text(0.8, 0.25, 'gini = 0.0\\nsamples = 15\\nvalue = [0, 15]'),\n",
       " Text(0.9333333333333333, 0.25, 'gini = 0.0\\nsamples = 2\\nvalue = [2, 0]')]"
      ]
     },
     "execution_count": 124,
     "metadata": {},
     "output_type": "execute_result"
    },
    {
     "data": {
      "image/png": "[encoded data removed]",
      "text/plain": [
       "<Figure size 1200x800 with 1 Axes>"
      ]
     },
     "metadata": {},
     "output_type": "display_data"
    }
   ],
   "source": [
    "plt.figure(figsize=(12,8))\n",
    "plot_tree(dt, fontsize=7)\n",
    "#it does not take all the features, it only takes the features which are important"
   ]
  },
  {
   "cell_type": "code",
   "execution_count": 126,
   "id": "653d8b22-e87c-408b-91a4-e43662a25520",
   "metadata": {},
   "outputs": [
    {
     "data": {
      "text/plain": [
       "'factbox'"
      ]
     },
     "execution_count": 126,
     "metadata": {},
     "output_type": "execute_result"
    }
   ],
   "source": [
    "tfidf.get_feature_names_out()[9696]"
   ]
  },
  {
   "cell_type": "code",
   "execution_count": 117,
   "id": "6840c608-b2f1-4bc5-be06-5cbce37ff8fd",
   "metadata": {},
   "outputs": [],
   "source": [
    "# performance evaluation\n",
    "#Evaluate the algorithm -  to check how much accurate is this\n",
    "#how many entries are correctly classified and how many entries are wrongly classified , that we have to check- \n",
    "#we already know the result, but we have to check it for the accuracy checking"
   ]
  },
  {
   "cell_type": "code",
   "execution_count": 118,
   "id": "9c3b6673-49f4-495b-885f-a69c44e2ce48",
   "metadata": {},
   "outputs": [],
   "source": [
    "#predict the result on the test data\n",
    "y_pred = dt.predict(x_test)"
   ]
  },
  {
   "cell_type": "code",
   "execution_count": 119,
   "id": "18a06fea-8d6e-4cf6-a400-217aa2cdb02a",
   "metadata": {},
   "outputs": [
    {
     "data": {
      "text/plain": [
       "array(['Fake', 'Fake', 'Fake', ..., 'Fake', 'Fake', 'Fake'], dtype=object)"
      ]
     },
     "execution_count": 119,
     "metadata": {},
     "output_type": "execute_result"
    }
   ],
   "source": [
    "#algorithm predicted data\n",
    "y_pred"
   ]
  },
  {
   "cell_type": "code",
   "execution_count": 120,
   "id": "a1fbd9e5-2606-4bd1-8ce2-0588a4fdb8db",
   "metadata": {},
   "outputs": [
    {
     "data": {
      "text/plain": [
       "2475"
      ]
     },
     "execution_count": 120,
     "metadata": {},
     "output_type": "execute_result"
    }
   ],
   "source": [
    "len(y_pred)"
   ]
  },
  {
   "cell_type": "code",
   "execution_count": 121,
   "id": "ac05e234-f2fd-4c59-9c21-d508f1313799",
   "metadata": {},
   "outputs": [
    {
     "data": {
      "text/plain": [
       "6688    Fake\n",
       "5766    Fake\n",
       "6335    Fake\n",
       "5857    Real\n",
       "7323    Real\n",
       "        ... \n",
       "14      Real\n",
       "5489    Real\n",
       "6953    Fake\n",
       "6780    Fake\n",
       "6727    Fake\n",
       "Name: label, Length: 2475, dtype: object"
      ]
     },
     "execution_count": 121,
     "metadata": {},
     "output_type": "execute_result"
    }
   ],
   "source": [
    "y_test"
   ]
  },
  {
   "cell_type": "code",
   "execution_count": 123,
   "id": "5b8a3906-46f4-4b73-afbd-8f3e2f546cf5",
   "metadata": {},
   "outputs": [
    {
     "name": "stdout",
     "output_type": "stream",
     "text": [
      "Help on function train_test_split in module sklearn.model_selection._split:\n",
      "\n",
      "train_test_split(*arrays, test_size=None, train_size=None, random_state=None, shuffle=True, stratify=None)\n",
      "    Split arrays or matrices into random train and test subsets.\n",
      "    \n",
      "    Quick utility that wraps input validation,\n",
      "    ``next(ShuffleSplit().split(X, y))``, and application to input data\n",
      "    into a single call for splitting (and optionally subsampling) data into a\n",
      "    one-liner.\n",
      "    \n",
      "    Read more in the :ref:`User Guide <cross_validation>`.\n",
      "    \n",
      "    Parameters\n",
      "    ----------\n",
      "    *arrays : sequence of indexables with same length / shape[0]\n",
      "        Allowed inputs are lists, numpy arrays, scipy-sparse\n",
      "        matrices or pandas dataframes.\n",
      "    \n",
      "    test_size : float or int, default=None\n",
      "        If float, should be between 0.0 and 1.0 and represent the proportion\n",
      "        of the dataset to include in the test split. If int, represents the\n",
      "        absolute number of test samples. If None, the value is set to the\n",
      "        complement of the train size. If ``train_size`` is also None, it will\n",
      "        be set to 0.25.\n",
      "    \n",
      "    train_size : float or int, default=None\n",
      "        If float, should be between 0.0 and 1.0 and represent the\n",
      "        proportion of the dataset to include in the train split. If\n",
      "        int, represents the absolute number of train samples. If None,\n",
      "        the value is automatically set to the complement of the test size.\n",
      "    \n",
      "    random_state : int, RandomState instance or None, default=None\n",
      "        Controls the shuffling applied to the data before applying the split.\n",
      "        Pass an int for reproducible output across multiple function calls.\n",
      "        See :term:`Glossary <random_state>`.\n",
      "    \n",
      "    shuffle : bool, default=True\n",
      "        Whether or not to shuffle the data before splitting. If shuffle=False\n",
      "        then stratify must be None.\n",
      "    \n",
      "    stratify : array-like, default=None\n",
      "        If not None, data is split in a stratified fashion, using this as\n",
      "        the class labels.\n",
      "        Read more in the :ref:`User Guide <stratification>`.\n",
      "    \n",
      "    Returns\n",
      "    -------\n",
      "    splitting : list, length=2 * len(arrays)\n",
      "        List containing train-test split of inputs.\n",
      "    \n",
      "        .. versionadded:: 0.16\n",
      "            If the input is sparse, the output will be a\n",
      "            ``scipy.sparse.csr_matrix``. Else, output type is the same as the\n",
      "            input type.\n",
      "    \n",
      "    Examples\n",
      "    --------\n",
      "    >>> import numpy as np\n",
      "    >>> from sklearn.model_selection import train_test_split\n",
      "    >>> X, y = np.arange(10).reshape((5, 2)), range(5)\n",
      "    >>> X\n",
      "    array([[0, 1],\n",
      "           [2, 3],\n",
      "           [4, 5],\n",
      "           [6, 7],\n",
      "           [8, 9]])\n",
      "    >>> list(y)\n",
      "    [0, 1, 2, 3, 4]\n",
      "    \n",
      "    >>> X_train, X_test, y_train, y_test = train_test_split(\n",
      "    ...     X, y, test_size=0.33, random_state=42)\n",
      "    ...\n",
      "    >>> X_train\n",
      "    array([[4, 5],\n",
      "           [0, 1],\n",
      "           [6, 7]])\n",
      "    >>> y_train\n",
      "    [2, 0, 3]\n",
      "    >>> X_test\n",
      "    array([[2, 3],\n",
      "           [8, 9]])\n",
      "    >>> y_test\n",
      "    [1, 4]\n",
      "    \n",
      "    >>> train_test_split(y, shuffle=False)\n",
      "    [[0, 1, 2], [3, 4]]\n",
      "\n"
     ]
    }
   ],
   "source": [
    "#22/05/2024\n",
    "\n",
    "help(train_test_split)"
   ]
  },
  {
   "cell_type": "code",
   "execution_count": 127,
   "id": "42668258-ce3f-4d5f-938c-233255a65c48",
   "metadata": {},
   "outputs": [],
   "source": [
    "#train test split method- confusion matrix method \n",
    "#import the class\n",
    "from sklearn.metrics import ConfusionMatrixDisplay"
   ]
  },
  {
   "cell_type": "code",
   "execution_count": 130,
   "id": "c44a3bb5-2758-48fb-8862-49bf7f21acc9",
   "metadata": {},
   "outputs": [
    {
     "data": {
      "image/png": "[encoded data removed]",
      "text/plain": [
       "<Figure size 640x480 with 2 Axes>"
      ]
     },
     "metadata": {},
     "output_type": "display_data"
    }
   ],
   "source": [
    "#show the matrix\n",
    "ConfusionMatrixDisplay.from_predictions(y_test, y_pred);\n",
    "# 1269+1199 = 24668 are matching (TP)"
   ]
  },
  {
   "cell_type": "code",
   "execution_count": 131,
   "id": "e00542bd-5e49-4f5c-bc5e-743e61643f83",
   "metadata": {},
   "outputs": [
    {
     "data": {
      "text/plain": [
       "0.9971717171717172"
      ]
     },
     "execution_count": 131,
     "metadata": {},
     "output_type": "execute_result"
    }
   ],
   "source": [
    "(1269+1199) / 2475"
   ]
  },
  {
   "cell_type": "code",
   "execution_count": 132,
   "id": "0a36af39-ea93-47bc-9311-31fce5bdf685",
   "metadata": {},
   "outputs": [
    {
     "data": {
      "text/plain": [
       "0.9968578161822467"
      ]
     },
     "execution_count": 132,
     "metadata": {},
     "output_type": "execute_result"
    }
   ],
   "source": [
    "#fake class - total entries / matched entries\n",
    "1269 / 1273"
   ]
  },
  {
   "cell_type": "code",
   "execution_count": 133,
   "id": "f849f48a-baf3-422c-aed2-c9e2c688b4f8",
   "metadata": {},
   "outputs": [
    {
     "data": {
      "text/plain": [
       "0.5704091341579448"
      ]
     },
     "execution_count": 133,
     "metadata": {},
     "output_type": "execute_result"
    }
   ],
   "source": [
    "#real class\n",
    "1199 / 2102"
   ]
  },
  {
   "cell_type": "code",
   "execution_count": 134,
   "id": "2de9c260-8236-44d8-a252-c22a2881e5c0",
   "metadata": {},
   "outputs": [],
   "source": [
    "# prediction  on unseen new news"
   ]
  },
  {
   "cell_type": "code",
   "execution_count": 137,
   "id": "66071cb4-e603-461f-9aba-f62b62fa5ba7",
   "metadata": {},
   "outputs": [],
   "source": [
    "f = open('sample_news.txt', encoding = 'utf-8')"
   ]
  },
  {
   "cell_type": "code",
   "execution_count": 138,
   "id": "696a5b63-3322-46a1-9f6d-4d8c7604643e",
   "metadata": {},
   "outputs": [],
   "source": [
    "news = f.readlines()"
   ]
  },
  {
   "cell_type": "code",
   "execution_count": 139,
   "id": "5bfd44cb-379f-4e83-8bef-f59bb8cd9601",
   "metadata": {},
   "outputs": [
    {
     "data": {
      "text/plain": [
       "['\" Donald Trump’s ‘Charity’ Foundation Is About To Be Shut The F**k Down NATIONWIDE Things really aren t looking too great for Donald Trump s charity foundation. With recent developments prohibiting the Trump Foundation from soliciting funds in New York state, it s now looking like a good majority of states may be following suit.The Trump Foundation has also been being looked at by the Attorney General for how it is getting and spending funds, especially after what happen with veterans organizations earlier this year.According to The Daily Beast: To make matters worse for the Trump Foundation, the probe may not be limited to New York: Charity experts and lawyers tell The Daily Beast that the attorneys general of other states may soon get involved in a long, drawn-out process.All major charities are required to register with 41 different states across the nation in order to individually request permission to fundraise. When Trump raised money for veterans, he may have broken the rules in dozens of states. The president of the National Committee for Responsible Philanthropy, Aaron Dorfman, stated: The Trump Foundation would be required to file similar paperwork with the attorneys generals of nearly every other state, and they could all take similar action. It is likely that other states will follow suit and they will be issued cease and desist orders denying them fundraising privileges in other states. That is the most likely next step. This is not good news for Trump who keeps trying to pivot to slamming Hillary Clinton s Clinton Foundation. You know, the one that helps fight AIDS in nations globally.Trump, of course, likes to pretend that he s holier than thou, which might explain why Trump Foundation money was used to buy pictures of, well, himself.And according to Real Clear Politics: From 2011 through 2014, Trump harnessed his eponymous foundation to send at least $286,000 to influential conservative or policy groups, a RealClearPolitics review of the foundation s tax filings found. In many cases, this flow of money corresponded to prime speaking slots or endorsements that aided Trump as he sought to recast himself as a plausible Republican candidate for president. Finding out Trump is a scam artist using a shell charity with his same name really should come as no surprise. Especially to fund his political ambitions of grandeur. However, it will be interesting to see how this story develops as the November election draws nearer.Featured Photo by Scott Olson/Getty Images\"\\n',\n",
       " '\"U.S. environmental agency chief says humans contribute to global warming WASHINGTON (Reuters) - The head of the U.S. Environmental Protection Agency, Scott Pruitt, said on Friday he believes human activity plays a role in global warming, but measuring that contribution with precision is difficult. Speaking to reporters at the White House a day after President Donald Trump said he would withdraw the United States  from the Paris climate accord, Pruitt declined to directly answer questions about whether the president still believed global warming was a hoax, as he had said during the 2016 presidential campaign Pruitt said he had indicated that global warming is occurring, and that “human activity contributes to it in some manner. Measuring with precision, from my perspective, the degree of human contribution is very challenging.” \"\\n',\n",
       " '\" Golden State Warriors Coach Just WRECKED Trump After Attack On One Of His Players On Saturday, the man we re forced to call  President  Trump responded to Golden State Warriors star Stephen Curry s refusal to accept an invitation to the White House by doing the internet equivalent of incoherently screeching  WELL FINE,  YOU RE NOT INVITED ANYWAY. Going to the White House is considered a great honor for a championship team.Stephen Curry is hesitating,therefore invitation is withdrawn!  Donald J. Trump (@realDonaldTrump) September 23, 2017Unfortunately for Trump, Warriors coach Steve Kerr has Curry s back. The idea of civil discourse with a guy who is tweeting and demeaning people and saying the things he s saying is sort of far-fetched,  Kerr said on Sunday.  Can you picture us really having a civil discourse with him? It was an actual chance to talk to the president,  he said.  After all, he works for us. He s a public servant. He may not be aware of that, but he is a public servant, right? So maybe as NBA champions, as people in a prominent position, we could go in and say,  This is what s bothering us, what can we do about this?\\'  Then he laid in to Trump for attacking black football players for exercising their First Amendment rights while calling Nazis  very fine people: How about the irony of  Free speech is fine if you re a neo-Nazi chanting hate slogans, but free speech is not allowed to kneel in protest?  No matter how many times a football player says,  I honor our military, but I m protesting police brutality and racial inequality,  it doesn t matter. Nationalists are saying,  You re disrespecting our flag.  Well, you know what else is disrespectful to our flag? Racism. And one s way worse than the other. Trump is a constant embarrassment to our country.Watch Kerr rip him apart below:Featured image via video screen capture\"\\n']"
      ]
     },
     "execution_count": 139,
     "metadata": {},
     "output_type": "execute_result"
    }
   ],
   "source": [
    "news"
   ]
  },
  {
   "cell_type": "code",
   "execution_count": 141,
   "id": "ee406246-791b-421f-a83c-ed289846de4d",
   "metadata": {},
   "outputs": [
    {
     "data": {
      "text/plain": [
       "<3x33562 sparse matrix of type '<class 'numpy.float64'>'\n",
       "\twith 325 stored elements in Compressed Sparse Row format>"
      ]
     },
     "execution_count": 141,
     "metadata": {},
     "output_type": "execute_result"
    }
   ],
   "source": [
    "# for prediction - whether it is fake or not, there is predict function available\n",
    "# we need to vectorize the data to use the predict function\n",
    "tfidf.transform(news)"
   ]
  },
  {
   "cell_type": "code",
   "execution_count": 142,
   "id": "8b98d37b-f376-4f4e-bc8b-cdff5c4a5440",
   "metadata": {},
   "outputs": [
    {
     "data": {
      "text/plain": [
       "array(['Fake', 'Real', 'Fake'], dtype=object)"
      ]
     },
     "execution_count": 142,
     "metadata": {},
     "output_type": "execute_result"
    }
   ],
   "source": [
    "dt.predict(tfidf.transform(news))"
   ]
  },
  {
   "cell_type": "code",
   "execution_count": null,
   "id": "1d89312e-0aaa-4155-8f33-4c7407ba42ab",
   "metadata": {},
   "outputs": [],
   "source": [
    "# poular algorithm in ML- K-Nearest Neighoubar"
   ]
  }
 ],
 "metadata": {
  "kernelspec": {
   "display_name": "Python 3 (ipykernel)",
   "language": "python",
   "name": "python3"
  },
  "language_info": {
   "codemirror_mode": {
    "name": "ipython",
    "version": 3
   },
   "file_extension": ".py",
   "mimetype": "text/x-python",
   "name": "python",
   "nbconvert_exporter": "python",
   "pygments_lexer": "ipython3",
   "version": "3.11.7"
  }
 },
 "nbformat": 4,
 "nbformat_minor": 5
}
